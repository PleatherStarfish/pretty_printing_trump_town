{
 "cells": [
  {
   "cell_type": "code",
   "execution_count": 1,
   "metadata": {},
   "outputs": [],
   "source": [
    "import csv\n",
    "import json\n",
    "import time\n",
    "import datetime\n",
    "import pprint\n",
    "import pyperclip\n",
    "\n",
    "def convert_time(s):\n",
    "    s = s.replace('0217', '2017')\n",
    "    s = s.replace('Director', '')\n",
    "    if s:\n",
    "        return time.mktime(datetime.datetime.strptime(s, \"%Y-%m-%d\").timetuple())\n",
    "    else:\n",
    "        return float('nan')\n",
    "        \n",
    "\n",
    "DESIRED_FIELDS = ['organization_name', 'organization_type'\n",
    "                  , 'position_held', 'from_date', 'to_date', 'staffer_id', 'organization_id']\n",
    "\n",
    "\n",
    "with open('outside_government_positions.csv', 'r') as f:\n",
    "    reader = csv.DictReader(f)\n",
    "    staffer_org_output = {}\n",
    "    organization_output = {}\n",
    "    organization_id_output = {}\n",
    "    for row in reader:\n",
    "        person = {k.strip():v for k, v in row.items() if k in DESIRED_FIELDS}\n",
    "        person['from_date'] = convert_time(person['from_date'])\n",
    "        person['to_date'] = convert_time(person['to_date'])\n",
    "        \n",
    "        staffer_org_output.setdefault(person['staffer_id'], []).append(person)\n",
    "        \n",
    "        organization_id_output.setdefault(person['organization_id'], []).append(person)\n",
    "        \n",
    "        organization_output.setdefault(person['organization_type'], {})\n",
    "        organization_output[person['organization_type']].setdefault(person['organization_id'], []).append(person)\n",
    "        \n",
    "\n",
    "        \n",
    "with open('organization.js', 'w') as f:\n",
    "    f.write('const organizations = ' + json.dumps(organization_output, indent=4, sort_keys=True))\n",
    "    \n",
    "with open('staffer_org.js', 'w') as f:\n",
    "    f.write('const staffer_orgs = ' + json.dumps(staffer_org_output, indent=4, sort_keys=True))\n",
    "    \n",
    "with open('organization_id.js', 'w') as f:\n",
    "    f.write('const organzation_ids = ' + json.dumps(organization_id_output, indent=4, sort_keys=True))\n",
    "    \n",
    "#pyperclip.copy(str(organization_output))\n",
    "\n"
   ]
  }
 ],
 "metadata": {
  "kernelspec": {
   "display_name": "Python 3",
   "language": "python",
   "name": "python3"
  },
  "language_info": {
   "codemirror_mode": {
    "name": "ipython",
    "version": 3
   },
   "file_extension": ".py",
   "mimetype": "text/x-python",
   "name": "python",
   "nbconvert_exporter": "python",
   "pygments_lexer": "ipython3",
   "version": "3.7.0"
  }
 },
 "nbformat": 4,
 "nbformat_minor": 2
}
