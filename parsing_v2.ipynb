{
 "cells": [
  {
   "cell_type": "code",
   "execution_count": 25,
   "metadata": {},
   "outputs": [
    {
     "name": "stdout",
     "output_type": "stream",
     "text": [
      "None\n",
      "EX\n",
      "AD\n",
      "AD\n",
      "AD\n",
      "EF\n",
      "EF\n",
      "done!\n"
     ]
    }
   ],
   "source": [
    "import csv\n",
    "import json\n",
    "import time\n",
    "import datetime\n",
    "import pprint\n",
    "import pyperclip\n",
    "import math\n",
    "\n",
    "def robust_eq(x, y):\n",
    "    if x == y:\n",
    "        return True\n",
    "    if isinstance(x, float) and isinstance(y, float):\n",
    "        if math.isnan(x) and math.isnan(y):\n",
    "            return True\n",
    "    return False\n",
    "\n",
    "def convert_time(s):\n",
    "    s = s.replace('0217', '2017')\n",
    "    s = s.replace('Director', '')\n",
    "    if s:\n",
    "        return s\n",
    "    else:\n",
    "        return float('nan')\n",
    "    \n",
    "def convert_dollars(s):\n",
    "    if '-' in s:\n",
    "        salaries = s.split('-')\n",
    "    else:\n",
    "        salaries = [s]\n",
    "    output = []\n",
    "    for salary in salaries:\n",
    "        as_int = salary.replace('$','').replace(',', '').replace('*', '')\n",
    "        try:\n",
    "            as_int = int(as_int)\n",
    "        except:\n",
    "            if(as_int):\n",
    "                print(as_int)\n",
    "            as_int = float('nan')\n",
    "        output.append(as_int)\n",
    "\n",
    "    if len(output) == 0:\n",
    "        return [float('nan'), float('nan')]\n",
    "    if len(output) == 1:\n",
    "        return [output[0], output[0]]\n",
    "    if len(output) == 2:\n",
    "        return output\n",
    "    if len(output) > 2:\n",
    "        print('help')\n",
    "\n",
    "def staffer_exists(row, output, agency_id, position_title):\n",
    "    for existing_entry in output[agency_id]['positions'][position_title]:\n",
    "        if all([robust_eq(convert_time(row[k]), existing_entry[k]) for k in ['start_date', 'end_date']]):\n",
    "            if existing_entry['staffer_id'] == int(row['staffer_id']):\n",
    "                return True\n",
    "    return False\n",
    "    \n",
    "\n",
    "with open('outfile1.csv', 'r') as f:\n",
    "    reader = list(csv.DictReader(f))\n",
    "    # get all agency ids\n",
    "    agency_ids = set()\n",
    "    for row in reader:\n",
    "        agency_ids.add(row['agency_id'])\n",
    "    \n",
    "    # build output\n",
    "    output = {}\n",
    "    for agency_id in agency_ids:\n",
    "        output[agency_id] = {}\n",
    "        output[agency_id]['positions'] = {}\n",
    "        for row in reader:\n",
    "            if row['agency_id'] != agency_id:\n",
    "                continue\n",
    "            # get agency name and slug    \n",
    "            if 'agency_name' in output[agency_id]:\n",
    "                assert row['agency_name'] == output[agency_id]['agency_name']\n",
    "            if 'agency_slug' in output[agency_id]:\n",
    "                assert row['agency_slug'] == output[agency_id]['agency_slug']    \n",
    "            output[agency_id]['agency_name'] = row['agency_name']\n",
    "            output[agency_id]['agency_slug'] = row['agency_slug']\n",
    "            \n",
    "            # populate positions\n",
    "            position_titles = [row['position_title_1'], row['position_title_2'], row['position_title_3']]\n",
    "            for position_title in position_titles:\n",
    "                if not position_title:\n",
    "                    continue\n",
    "                output[agency_id]['positions'].setdefault(position_title, [])\n",
    "                for x in output[agency_id]['positions'][position_title]:\n",
    "                    if x['staffer_id'] == row['staffer_id']:\n",
    "                        assert x['start_date'] == convert_time(row['start_date'])\n",
    "                        assert x['end_date'] == convert_time(row['end_date'])\n",
    "                        continue\n",
    "                if not staffer_exists(row, output, agency_id, position_title):\n",
    "                    output[agency_id]['positions'][position_title].append({\n",
    "                        'staffer_id': int(row['staffer_id'])\n",
    "                        , 'name': row['name']\n",
    "                        , 'start_date': convert_time(row['start_date'])\n",
    "                        , 'end_date': convert_time(row['end_date'])\n",
    "                        , 'linkedin_url': row['linkedin_url']\n",
    "                        , 'grade_level': convert_dollars(row['grade_level'])\n",
    "                    })\n",
    "\n",
    "with open('data2.js', 'w') as f:\n",
    "    f.write('const data = ' + json.dumps(output, indent=4, sort_keys=True))\n",
    "\n",
    "print('done!')"
   ]
  },
  {
   "cell_type": "code",
   "execution_count": 22,
   "metadata": {},
   "outputs": [
    {
     "data": {
      "text/plain": [
       "False"
      ]
     },
     "execution_count": 22,
     "metadata": {},
     "output_type": "execute_result"
    }
   ],
   "source": [
    "float('nan') == float('nan')"
   ]
  }
 ],
 "metadata": {
  "kernelspec": {
   "display_name": "Python 3",
   "language": "python",
   "name": "python3"
  },
  "language_info": {
   "codemirror_mode": {
    "name": "ipython",
    "version": 3
   },
   "file_extension": ".py",
   "mimetype": "text/x-python",
   "name": "python",
   "nbconvert_exporter": "python",
   "pygments_lexer": "ipython3",
   "version": "3.7.0"
  }
 },
 "nbformat": 4,
 "nbformat_minor": 2
}
